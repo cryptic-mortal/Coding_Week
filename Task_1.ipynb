{
 "cells": [
  {
   "cell_type": "markdown",
   "id": "8d15fad8-cb71-491a-baf4-3877f9b3d1a6",
   "metadata": {},
   "source": [
    "# Task 1 : The CampusPulse Initiative"
   ]
  },
  {
   "cell_type": "markdown",
   "id": "01a16f7f-4542-48ba-8afb-fc1b6c39330c",
   "metadata": {},
   "source": [
    "## Level 0 : df Summary"
   ]
  },
  {
   "cell_type": "code",
   "execution_count": null,
   "id": "1006c397-1201-4781-ba74-29b3752de203",
   "metadata": {},
   "outputs": [],
   "source": [
    "import pandas as pd\n",
    "import numpy as np\n",
    "import seaborn as sns\n",
    "import matplotlib.pyplot as plt"
   ]
  },
  {
   "cell_type": "code",
   "execution_count": null,
   "id": "1d51cee1-5599-4462-9b79-5b5793ee7d46",
   "metadata": {},
   "outputs": [],
   "source": [
    "np.random.seed(0)"
   ]
  },
  {
   "cell_type": "code",
   "execution_count": null,
   "id": "c8a0df18-e491-47d2-9480-a51a9b1434f4",
   "metadata": {},
   "outputs": [],
   "source": [
    "df = pd.read_csv('dataset.csv')\n",
    "df"
   ]
  },
  {
   "cell_type": "code",
   "execution_count": null,
   "id": "8754edcc-8b25-4032-a4ad-d502f1eb8b9a",
   "metadata": {},
   "outputs": [],
   "source": [
    "df.columns"
   ]
  },
  {
   "cell_type": "code",
   "execution_count": null,
   "id": "284de73d-24a6-429b-868d-b0b679afec89",
   "metadata": {},
   "outputs": [],
   "source": [
    "df.info()"
   ]
  },
  {
   "cell_type": "markdown",
   "id": "fb13504e-e205-4ccd-b1b9-eb93786e5ecc",
   "metadata": {},
   "source": [
    "## Level 1: Variable Identification Protocol "
   ]
  },
  {
   "cell_type": "code",
   "execution_count": null,
   "id": "8e56dcc4-797f-4e03-ac40-0ba2fe0edeff",
   "metadata": {},
   "outputs": [],
   "source": [
    "df.describe()"
   ]
  },
  {
   "cell_type": "code",
   "execution_count": null,
   "id": "2caae609-e597-40ad-99cd-4699166d7e72",
   "metadata": {},
   "outputs": [],
   "source": [
    "fig,axes = plt.subplots(nrows = 1, ncols = 3, figsize = (12,4))\n",
    "\n",
    "for i,ax in enumerate(axes) :\n",
    "    \n",
    "    data = df['Feature_{}'.format(i+1)].dropna()\n",
    "    min_val = int(data.min())\n",
    "    max_val = int(data.max())\n",
    "    bins = np.arange(min_val - 0.5, max_val + 1.5, 1)\n",
    "    ax.hist(df['Feature_{}'.format(i+1)],color='skyblue', edgecolor ='black',bins = bins)\n",
    "    ax.set_title('Feature_{}'.format(i+1))\n",
    "    ax.set_xlabel('Values')\n",
    "    ax.set_ylabel('Frequency')\n",
    "    ax.set_xticks(np.arange(min_val, max_val + 1))\n",
    "\n",
    "\n",
    "plt.tight_layout()\n",
    "plt.savefig('Feature_hist')\n",
    "plt.show()\n"
   ]
  },
  {
   "cell_type": "markdown",
   "id": "3e61866a-483f-4fd7-8c1e-80a5fac9dfce",
   "metadata": {},
   "source": [
    "It is clear that Feature_2 and Feature_3 are categorical values since they are coded in numbers and have a small range while Feature_1 is a numerical column.\n",
    "- 💭 Feature_1 has most of the value in the range of 15-18 and follows a perfect normal distribution representing **age**.\n",
    "- 💭 Feature_2 and Feature_3 can represent **stress levels, screen time, studytime, GPA,etc**.\n",
    "- 💭 Feature_3 histogram maybe respresent a **subtle bad habit/Negative indicator** since frequency(#student) is going linearly down with increasing values."
   ]
  },
  {
   "cell_type": "code",
   "execution_count": null,
   "id": "b3ace4ce-f054-46cd-a477-9bbb21db5ca1",
   "metadata": {},
   "outputs": [],
   "source": [
    "fig,axes = plt.subplots(1,2,figsize=(8,4))\n",
    "df['grades'] = (df['G1']+df['G2']+df['G3'])/3\n",
    "axes[0].plot(df.groupby('Feature_2')['grades'].mean(),marker='o',color='orange')\n",
    "axes[0].set_ylim(8,16)\n",
    "axes[0].set_xticks([1,2,3,4])\n",
    "\n",
    "axes[0].set_xlabel('Feature_2 Values')\n",
    "axes[0].set_ylabel('Average Grades')\n",
    "\n",
    "axes[1].plot(df.groupby('Feature_2')['failures'].mean(),marker='o',color='orange')\n",
    "axes[1].set_xticks([1,2,3,4])\n",
    "axes[1].set_ylim(0,1)\n",
    "axes[1].set_xlabel('Feature_2 Values')\n",
    "axes[1].set_ylabel('Average Failures')\n",
    "plt.savefig('Relation of Feature_2 with Grades and Failures')\n",
    "plt.tight_layout()\n",
    "plt.show()"
   ]
  },
  {
   "cell_type": "markdown",
   "id": "14f62bf9-8eef-4655-b527-5cba2639befb",
   "metadata": {},
   "source": [
    "- 🤔 We can clearly see from the figure that as the feature 2 value increases the average grade of the student increases and average failures decreases swiftly pointing to the fact that feature 2 can be study time in hours(the values indicate that) or GPA out of 4\n",
    "- If we consider Feature_2 is GPA it should linearly increase with grades but Value 3 the average grade decrease. So, we can conclude that Feature_2 is indeed studytime in hours as the grades tend to get stagnant after a certain amount of studytime."
   ]
  },
  {
   "cell_type": "code",
   "execution_count": null,
   "id": "c2d84124-0e3a-49f3-9c1a-4d71e6d08954",
   "metadata": {},
   "outputs": [],
   "source": [
    "fig,axes = plt.subplots(1,3,figsize=(12,4))\n",
    "df['grades'] = (df['G1']+df['G2']+df['G3'])/3\n",
    "axes[0].plot(df.groupby('Feature_3')['grades'].mean(),marker='o',color='indigo')\n",
    "axes[0].set_ylim(8,16)\n",
    "axes[0].set_xticks([1,2,3,4,5])\n",
    "axes[0].set_xlabel('Feature_3 Values')\n",
    "axes[0].set_ylabel('Average Grades')\n",
    "\n",
    "axes[1].plot(df.groupby('Feature_3')['failures'].mean(),marker='o',color='indigo')\n",
    "axes[1].set_xticks([1,2,3,4,5])\n",
    "axes[1].set_ylim(0,1)\n",
    "axes[1].set_xlabel('Feature_3 Values')\n",
    "axes[1].set_ylabel('Average Failures')\n",
    "\n",
    "axes[2].plot(df.groupby('Feature_3')['absences'].mean(),marker='o',color='indigo')\n",
    "axes[2].set_xticks([1,2,3,4,5])\n",
    "# axes[1].set_ylim(0,1)\n",
    "axes[2].set_xlabel('Feature_3 Values')\n",
    "axes[2].set_ylabel('Average Absences')\n",
    "\n",
    "plt.tight_layout()\n",
    "plt.savefig('Relation of Feature_3 with Grades, Failures and Absences')\n",
    "plt.show()"
   ]
  },
  {
   "cell_type": "markdown",
   "id": "c78affbe-85f2-4de9-9228-8589a0bb1b67",
   "metadata": {},
   "source": [
    "- 🤔 While figure is negatively correlated with the grades and positively correlated with Average failures and Absences it can be associated with increasing stress levels."
   ]
  },
  {
   "cell_type": "markdown",
   "id": "4806dd5e-8604-43aa-9cc0-befb19d4ffa5",
   "metadata": {},
   "source": [
    "## Level 2: Data Integrity Audit "
   ]
  },
  {
   "cell_type": "code",
   "execution_count": null,
   "id": "a1f628cd-6e18-45f1-8f32-009897a2b70b",
   "metadata": {},
   "outputs": [],
   "source": [
    "for col in df.select_dtypes(include='object'):\n",
    "    total = df.shape[0]\n",
    "    count = df[col].value_counts().sum()\n",
    "    print(df[col].value_counts().to_string())\n",
    "    print(f\"{col}: Missing = {total - count}\\n\")"
   ]
  },
  {
   "cell_type": "code",
   "execution_count": null,
   "id": "661b6a08-3eeb-46f3-b9ca-1a4ed07f1d2e",
   "metadata": {},
   "outputs": [],
   "source": [
    "# ct = pd.crosstab(df['famsize'], df['romantic'])\n",
    "# percent_ct = ct.div(ct.sum(axis=1), axis=0) * 100\n",
    "\n",
    "# print(percent_ct.round(2))\n",
    "# df.loc[df['famsize'].isna(), 'famsize'] = np.random.choice(['GT3','LE3'],size=df['famsize'].isna().sum(),p=[0.65,0.35])\n",
    "\n",
    "# print(df['famsize'].value_counts())\n",
    "df['famsize'] = df['famsize'].fillna(df['famsize'].mode()[0])\n",
    "col = 'famsize'\n",
    "total = df.shape[0]\n",
    "count = df[col].value_counts().sum()\n",
    "print(f\"{col}: Missing = {total - count}\\n\")"
   ]
  },
  {
   "cell_type": "code",
   "execution_count": null,
   "id": "7161edec-a538-4386-89c6-56b05e12df38",
   "metadata": {},
   "outputs": [],
   "source": [
    "ct = pd.crosstab(df['higher'], df['romantic'])\n",
    "percent_ct = ct.div(ct.sum(axis=1), axis=0) * 100\n",
    "\n",
    "print(percent_ct.round(2))\n",
    "df.loc[(df['higher'].isna()) & (df['romantic']=='yes'), 'higher'] = np.random.choice(['no','yes'],size=((df['higher'].isna()) & (df['romantic'] == 'yes')).sum(),p=[0.64,0.36])\n",
    "df.loc[(df['higher'].isna()) & (df['romantic']=='no'), 'higher'] = np.random.choice(['no','yes'],size=((df['higher'].isna()) & (df['romantic'] == 'no')).sum(),p=[0.48,0.52])\n",
    "\n",
    "print(df['higher'].value_counts())\n",
    "# df['higher'] = df['higher'].fillna(df['higher'].mode()[0])\n",
    "# col = 'higher'\n",
    "# total = df.shape[0]\n",
    "# count = df[col].value_counts().sum()\n",
    "# print(f\"{col}: Missing = {total - count}\\n\")"
   ]
  },
  {
   "cell_type": "markdown",
   "id": "084364ed-a256-406f-8291-978e47d31e83",
   "metadata": {},
   "source": [
    "Since the output clearly shows the categorical data has no null values except two columns *famsize* and *higher*. The strategy is to fill the missing values with the existing proportions so that it does not skew romantic target column."
   ]
  },
  {
   "cell_type": "code",
   "execution_count": null,
   "id": "bc22e4d1-d8e7-486d-a6f2-53559533d296",
   "metadata": {},
   "outputs": [],
   "source": [
    "for col in df.select_dtypes(exclude='object'):\n",
    "    print(\"{} : {}\".format(col,df[col].isna().sum()))"
   ]
  },
  {
   "cell_type": "markdown",
   "id": "e5271583-9b6b-486d-bf7b-ea206d4c59ec",
   "metadata": {},
   "source": [
    "Some columns have missing values. So, we will fill the continous data with median/mean values while we will fill categorical data(coded with integers) with mode because mode precisely replicates the data in real life."
   ]
  },
  {
   "cell_type": "code",
   "execution_count": null,
   "id": "460ca5bb-0bc4-4ade-824b-7bdfd82b068e",
   "metadata": {},
   "outputs": [],
   "source": [
    "to_fill = ['Fedu','traveltime','freetime','absences','G2','Feature_1','Feature_2','Feature_3']\n",
    "df[to_fill].describe()"
   ]
  },
  {
   "cell_type": "code",
   "execution_count": null,
   "id": "0202205c-6f89-4eae-9307-9d29b6bd85df",
   "metadata": {},
   "outputs": [],
   "source": [
    "from sklearn.impute import SimpleImputer\n",
    "cat_fill = ['Fedu','traveltime','freetime','Feature_2','Feature_3']\n",
    "median_cols = ['absences', 'Feature_1']\n",
    "\n",
    "median_imputer = SimpleImputer(strategy='median')\n",
    "df[median_cols] = median_imputer.fit_transform(df[median_cols])\n",
    "\n",
    "df['G2'] = SimpleImputer(strategy='mean').fit_transform(df[['G2']])\n",
    "\n",
    "mode_imputer = SimpleImputer(strategy='most_frequent')\n",
    "df[cat_fill] = mode_imputer.fit_transform(df[cat_fill])\n",
    "for col in df.select_dtypes(exclude='object'):\n",
    "    print(\"{} : {}\".format(col,df[col].isna().sum()))"
   ]
  },
  {
   "cell_type": "code",
   "execution_count": null,
   "id": "dea8a29c-b24d-439e-9c81-19d2ce143296",
   "metadata": {},
   "outputs": [],
   "source": [
    "df['grades'] = df['G1']+df['G2']+df['G3']\n",
    "print(df['grades'].isna().sum())"
   ]
  },
  {
   "cell_type": "markdown",
   "id": "92d58441-5599-43f4-87ff-b3b36248c067",
   "metadata": {},
   "source": [
    "## Level 3: Exploratory Insight Report "
   ]
  },
  {
   "cell_type": "markdown",
   "id": "02d38d65-ad05-4a0b-890e-31e27c55d7fd",
   "metadata": {},
   "source": [
    "### Q1) Does education of parents affect the grades of the student?"
   ]
  },
  {
   "cell_type": "code",
   "execution_count": null,
   "id": "8e749d60-9f1a-4ee4-8551-c92463539af1",
   "metadata": {},
   "outputs": [],
   "source": [
    "df['Parental_Edu'] = (df['Medu'] + df['Fedu']) / 2\n",
    "grouped = df.groupby('Parental_Edu')['grades'].mean().reset_index()\n",
    "\n",
    "plt.figure(figsize=(6,4))\n",
    "sns.lineplot(data=grouped, x='Parental_Edu', y='grades', marker='o', color='green')\n",
    "\n",
    "plt.title(\"Student Grades vs Average Parental Education\")\n",
    "plt.xlabel(\"Average Parental Education Level (0 = none, 4 = higher ed)\")\n",
    "plt.ylabel(\"Mean Student Grade\")\n",
    "plt.grid(True)\n",
    "plt.tight_layout()\n",
    "plt.savefig(\"Student Grades vs Average Parental Education\")\n",
    "plt.show()"
   ]
  },
  {
   "cell_type": "markdown",
   "id": "599ffb94-f513-4249-b700-a04781b1542f",
   "metadata": {},
   "source": [
    "This plot clearly shows that higher average parental education is associated with better student grades. This trend is likely due to several factors like: better academic support at home, higher expectations, and access to resources.\n",
    "The strongest gains appear after an average parental education of 2.5, pointing to the fact that educational performance increases substantially when both parents are well-educated."
   ]
  },
  {
   "cell_type": "markdown",
   "id": "345b24bc-4baf-46e5-b46b-47cf6e008315",
   "metadata": {},
   "source": [
    "### Q2) How does relationship status and sex affect the grades of students? "
   ]
  },
  {
   "cell_type": "code",
   "execution_count": null,
   "id": "034a0dce-1573-4cf0-9d7d-856011ab94ff",
   "metadata": {},
   "outputs": [],
   "source": [
    "plt.figure(figsize=(6,4))\n",
    "sns.barplot(x='sex', y='grades', hue='romantic', data=df,edgecolor='black')\n",
    "\n",
    "plt.title('Average Grades by Gender and Relationship Status')\n",
    "plt.xlabel('Gender (F = Female, M = Male)')\n",
    "plt.ylabel('Mean Student Grade')\n",
    "plt.legend(title='In Relationship')\n",
    "plt.tight_layout()\n",
    "plt.savefig('Average Grades by Gender and Relationship Status')\n",
    "plt.show()"
   ]
  },
  {
   "cell_type": "markdown",
   "id": "b13b4ca4-c58c-49e4-bfef-2a6f81aff288",
   "metadata": {},
   "source": [
    "- The chart highlights a consistent pattern: students who are not in a romantic relationship tend to perform better academically. The reason for this can be more time is spent to maintain the relation and thus less time is available for academic activities.\n",
    "- Female students outperform male students regardless of their relationship status.\n",
    "- The negative impact of relation on grades affects both the gender nearly the same. "
   ]
  },
  {
   "cell_type": "markdown",
   "id": "e67fece6-209b-4ffc-a1ca-9d467ba41225",
   "metadata": {},
   "source": [
    "### Q3) How are *famrel*, *Dalc*, *goout*, *health*, *Feature_3(stress level)* associated with each other?"
   ]
  },
  {
   "cell_type": "code",
   "execution_count": null,
   "id": "55762e59-9c90-4959-9263-bb9a1b5d581d",
   "metadata": {},
   "outputs": [],
   "source": [
    "corr = df[['famrel', 'Dalc', 'goout', 'health', 'Feature_3']].corr()\n",
    "plt.figure(figsize=(8,6))\n",
    "sns.heatmap(corr, annot=True, cmap='magma')\n",
    "plt.title(\"Lifestyle Factors heatmap\")\n",
    "plt.tight_layout()\n",
    "plt.savefig(\"Lifestyle Factors heatmap\")\n",
    "plt.show()"
   ]
  },
  {
   "cell_type": "markdown",
   "id": "627e1eb0-8852-483b-8a1c-e855d3fe0f22",
   "metadata": {},
   "source": [
    "- Dalc vs Feature_3 (Stress level) -> 0.57 <br>This is a strong relationship. Students who drink more alcohol on weekdays also tend to report high amount of stress.\n",
    "- Dalc vs Goout -> 0.25\n",
    "<br>Moderate correlation. Students who socialize more often tend to drink more during the week — this is expected as a *party culture*.\n",
    "- gout vs Feature_3 -> 0.37 <br>Socially active students are also more likely to report high stress levels, reinforcing the idea of *peer pressure and fitting into the society mindset*."
   ]
  },
  {
   "cell_type": "markdown",
   "id": "b5c6fadb-5495-43d3-a25c-46e05edaf456",
   "metadata": {},
   "source": [
    "### Q4) How does Parental cohabitation status affect student's Alcohol consumption and Family relationship quality"
   ]
  },
  {
   "cell_type": "code",
   "execution_count": null,
   "id": "0d354f3d-751e-4ddf-931b-fa70ab6324c5",
   "metadata": {},
   "outputs": [],
   "source": [
    "fig, axes = plt.subplots(1,2,figsize=(8,4))\n",
    "sns.barplot(x='Pstatus',y='Dalc',ax=axes[0],edgecolor='black',data=df,color='skyblue')\n",
    "axes[0].set_xlabel('Pstatus(T : Together, A : Apart)')\n",
    "axes[0].set_ylabel('Alcohol consumption')\n",
    "\n",
    "sns.barplot(x='Pstatus',y='famrel',ax=axes[1],edgecolor='black',data=df,color='skyblue')\n",
    "axes[1].set_xlabel('Pstatus(T : Together, A : Apart)')\n",
    "axes[1].set_ylabel('Family Relationship Quality')\n",
    "\n",
    "plt.tight_layout()\n",
    "plt.savefig('Pstatus vs Dalc|Famrel')\n",
    "plt.show()"
   ]
  },
  {
   "cell_type": "markdown",
   "id": "e8d94538-baa3-4ab8-8fc3-134fc704f361",
   "metadata": {},
   "source": [
    "- Alcohol consumption of students whose parent live together is greater than the alcohol consumption of students whose parents live apart. The reason for this is that student living with a single parent are more protected and often have less freedom.\n",
    "- Students with both parents together report slightly higher family relationship quality than those with parents apart. Students with both parents have greater emotional support and family bonding."
   ]
  },
  {
   "cell_type": "markdown",
   "id": "87cdd278-fbc0-463f-9ca1-5cb09758c533",
   "metadata": {},
   "source": [
    "### Q5) Relation between Age and Relatioship Status"
   ]
  },
  {
   "cell_type": "code",
   "execution_count": null,
   "id": "dcf9363b-1443-47f1-8e54-276c16585236",
   "metadata": {},
   "outputs": [],
   "source": [
    "df['Feature_1'].value_counts()"
   ]
  },
  {
   "cell_type": "code",
   "execution_count": null,
   "id": "8728f224-9b11-4faf-912e-8b3603642e8d",
   "metadata": {},
   "outputs": [],
   "source": [
    "df['romantic_1'] = df['romantic'].map({'yes': 1, 'no': 0})\n",
    "sns.barplot(x='Feature_1', y='romantic_1', data=df[df['Feature_1'] <= 19])\n",
    "plt.ylabel('Relatioship Status')\n",
    "plt.xlabel('Age')\n",
    "plt.savefig('Relationship Status vs Age')"
   ]
  },
  {
   "cell_type": "markdown",
   "id": "1ced35b5-857f-42b6-9898-f6501c6a3916",
   "metadata": {},
   "source": [
    "The bar chart indicates a strong positive relationship between age and possibility of being in a romantic relationship among students aged 15 to 19. The trend suggests that emotional and social maturity with age plays a key role in relationship formation. Students with increasing age also have greater freedom."
   ]
  },
  {
   "cell_type": "markdown",
   "id": "b00b2b07-0d93-4178-9fbe-63fd6196d86f",
   "metadata": {},
   "source": [
    "## Level 4: Relationship Prediction Model "
   ]
  },
  {
   "cell_type": "markdown",
   "id": "24048a04-90c1-409b-98fe-74333e500043",
   "metadata": {},
   "source": [
    "### Data Preparation"
   ]
  },
  {
   "cell_type": "code",
   "execution_count": null,
   "id": "0e13c3a9-b152-45ff-8519-986025a49aa0",
   "metadata": {},
   "outputs": [],
   "source": [
    "df = df.drop(columns=['Parental_Edu','romantic_1'])\n",
    "df.info()"
   ]
  },
  {
   "cell_type": "code",
   "execution_count": null,
   "id": "c02812c1-a94c-4729-81bf-9d73cd43590e",
   "metadata": {},
   "outputs": [],
   "source": [
    "# numerical_cols = df.select_dtypes(include=['int64', 'float64']).columns\n",
    "# categorical_cols = df.select_dtypes(include='object').columns\n",
    "# df = pd.get_dummies(df,columns=categorical_cols,drop_first=True,dtype=int)\n",
    "df['schoolsup'] = df['schoolsup'].map({'yes': 1, 'no': 0})\n",
    "df['famsup'] = df['famsup'].map({'yes': 1, 'no': 0})\n",
    "df['paid'] = df['paid'].map({'yes': 1, 'no': 0})\n",
    "df['activities'] = df['activities'].map({'yes': 1, 'no': 0})\n",
    "df['nursery'] = df['nursery'].map({'yes': 1, 'no': 0})\n",
    "df['higher'] = df['higher'].map({'yes': 1, 'no': 0})\n",
    "df['internet'] = df['internet'].map({'yes': 1, 'no': 0})\n",
    "df['famsize'] = df['famsize'].map({'LE3': 0, 'GT3': 1})\n",
    "df['school'] = df['school'].map({'GP': 1, 'MP': 0})\n",
    "df['sex'] = df['sex'].map({'M': 1, 'F': 0})\n",
    "df['address'] = df['address'].map({'U': 1, 'R': 0})\n",
    "df['Pstatus'] = df['Pstatus'].map({'T': 1, 'A': 0})\n",
    "df['guardian'] = df['guardian'].map({'father': 2, 'mother': 1, 'other':0})\n",
    "df['Mjob'] = df['Mjob'].map({'teacher': 4, 'health': 3, 'services':2, 'at_home':1, 'other':0})\n",
    "df['Fjob'] = df['Fjob'].map({'teacher': 4, 'health': 3, 'services':2, 'at_home':1, 'other':0})\n",
    "df['reason'] = df['reason'].map({'home': 3, 'reputation':2, 'course':1, 'other':0})\n",
    "df['romantic'] = df['romantic'].map({'yes': 1, 'no': 0})\n",
    "\n",
    "X = df.drop(columns=['romantic','school','famsize','Fedu','Medu','guardian','Mjob','Fjob','nursery','higher','address','freetime','health','famsup','reason','Feature_2','absences','activities','paid','schoolsup'])\n",
    "y = df['romantic']\n",
    "# print(\"X columns:\", X.columns.tolist())\n",
    "\n",
    "# X = df.drop(['reason','school','Fjob','Mjob','guardian', 'famsize', 'Medu', 'Fedu', 'traveltime', 'failures', 'schoolsup', 'famsup', 'paid', 'activities', 'nursery', 'higher', 'internet', 'famrel', 'freetime', 'goout', 'Dalc', 'health', 'absences', 'G1', 'G2', 'G3', 'Feature_1', 'Feature_2', 'Feature_3','romantic'], axis=1)\n",
    "# y = df['romantic']\n",
    "print(\"X columns:\", X.columns.tolist())"
   ]
  },
  {
   "cell_type": "code",
   "execution_count": null,
   "id": "466533db-44c2-4e62-8e03-d5a6b0dd5309",
   "metadata": {},
   "outputs": [],
   "source": [
    "from sklearn.model_selection import train_test_split\n",
    "from sklearn.preprocessing import StandardScaler\n",
    "X_train, X_test, y_train, y_test = train_test_split(X, y, test_size=0.3, random_state=0,stratify=y)\n",
    "\n",
    "scaler = StandardScaler()\n",
    "X_train_scaled = scaler.fit_transform(X_train)\n",
    "X_test_scaled = scaler.transform(X_test)"
   ]
  },
  {
   "cell_type": "markdown",
   "id": "ea04a496-c87b-4b89-98b3-e1beb32fd130",
   "metadata": {},
   "source": [
    "### Logistic regression"
   ]
  },
  {
   "cell_type": "code",
   "execution_count": null,
   "id": "e474d19c-07b6-494f-b12d-f0a920210333",
   "metadata": {},
   "outputs": [],
   "source": [
    "from sklearn.linear_model import LogisticRegression\n",
    "from sklearn.metrics import accuracy_score, f1_score, classification_report\n",
    "from sklearn.metrics import confusion_matrix, ConfusionMatrixDisplay\n",
    "\n",
    "lr_model = LogisticRegression(random_state=0,C=0.1)\n",
    "lr_model.fit(X_train_scaled, y_train)\n",
    "y_pred_lr = lr_model.predict(X_test_scaled)\n",
    "\n",
    "print(classification_report(y_test, y_pred_lr))\n",
    "cm = confusion_matrix(y_test, y_pred_lr)\n",
    "disp = ConfusionMatrixDisplay(confusion_matrix=cm, display_labels=['no','yes'])\n",
    "disp.plot(cmap='Blues')\n",
    "plt.title('Confusion Matrix')\n",
    "plt.show()"
   ]
  },
  {
   "cell_type": "markdown",
   "id": "14a994ca-01ba-4e96-b9a5-98a5e7d8613a",
   "metadata": {},
   "source": [
    "### Random Forest"
   ]
  },
  {
   "cell_type": "code",
   "execution_count": null,
   "id": "80201c31-714d-4fd5-9733-e42bd1f85172",
   "metadata": {},
   "outputs": [],
   "source": [
    "from sklearn.ensemble import RandomForestClassifier\n",
    "\n",
    "rf_model = RandomForestClassifier(random_state=0, n_estimators=200)\n",
    "rf_model.fit(X_train, y_train)\n",
    "y_pred_rf = rf_model.predict(X_test)\n",
    "\n",
    "print(classification_report(y_test, y_pred_rf))\n",
    "cm = confusion_matrix(y_test, y_pred_rf)\n",
    "disp = ConfusionMatrixDisplay(confusion_matrix=cm, display_labels=['no','yes'])\n",
    "disp.plot(cmap='Blues')\n",
    "plt.title('Confusion Matrix')\n",
    "plt.show()"
   ]
  },
  {
   "cell_type": "markdown",
   "id": "e501d71a-137e-4343-a803-aaec67272b06",
   "metadata": {},
   "source": [
    "### KNN"
   ]
  },
  {
   "cell_type": "code",
   "execution_count": null,
   "id": "22fc0a14-903d-4e00-80d7-e17cb132a5ff",
   "metadata": {},
   "outputs": [],
   "source": [
    "from sklearn.neighbors import KNeighborsClassifier\n",
    "\n",
    "knn_model = KNeighborsClassifier(n_neighbors=15)\n",
    "knn_model.fit(X_train_scaled, y_train)\n",
    "y_pred_knn = knn_model.predict(X_test_scaled)\n",
    "\n",
    "print(classification_report(y_test, y_pred_knn))\n",
    "cm = confusion_matrix(y_test, y_pred_knn)\n",
    "disp = ConfusionMatrixDisplay(confusion_matrix=cm, display_labels=['no','yes'])\n",
    "disp.plot(cmap='Blues')\n",
    "plt.title('Confusion Matrix')\n",
    "plt.show()"
   ]
  },
  {
   "cell_type": "markdown",
   "id": "6d4fb52b-65a4-4196-a0ef-13f1d016cdbc",
   "metadata": {},
   "source": [
    "### XGBoost"
   ]
  },
  {
   "cell_type": "code",
   "execution_count": null,
   "id": "3a83f36f-93d3-42ac-aaa1-4b70716176b5",
   "metadata": {},
   "outputs": [],
   "source": [
    "import xgboost as xgb\n",
    "\n",
    "xgb_model = xgb.XGBClassifier(random_state=0, objective='binary:logistic')\n",
    "xgb_model.fit(X_train, y_train)\n",
    "y_pred_xgb = xgb_model.predict(X_test)\n",
    "\n",
    "print(classification_report(y_test, y_pred_xgb))\n",
    "cm = confusion_matrix(y_test, y_pred_xgb)\n",
    "disp = ConfusionMatrixDisplay(confusion_matrix=cm, display_labels=['no','yes'])\n",
    "disp.plot(cmap='Blues')\n",
    "plt.title('XGBoost Confusion Matrix')\n",
    "plt.show()"
   ]
  },
  {
   "cell_type": "markdown",
   "id": "6357728a-753d-4dfe-82fa-ed4cc545653c",
   "metadata": {},
   "source": [
    "## Level 5: Model Reasoning & Interpretation "
   ]
  },
  {
   "cell_type": "code",
   "execution_count": null,
   "id": "aa528775-b389-4bcc-bca8-79b9d8544520",
   "metadata": {},
   "outputs": [],
   "source": [
    "'''\n",
    "Source of the code insight\n",
    "https://stackoverflow.com/questions/28256058/plotting-decision-boundary-of-logistic-regression\n",
    "'''\n",
    "X = df[['goout', 'Feature_3']].copy()\n",
    "y = df['romantic']\n",
    "\n",
    "scaler_2 = StandardScaler()\n",
    "X_scaled = scaler_2.fit_transform(X)\n",
    "\n",
    "lr_model_2 = LogisticRegression(class_weight='balanced')\n",
    "lr_model_2.fit(X_scaled, y)\n",
    "\n",
    "x_vals = sorted(X['goout'].unique())\n",
    "y_vals = sorted(X['Feature_3'].unique())\n",
    "xx, yy = np.meshgrid(x_vals, y_vals)\n",
    "grid = np.c_[xx.ravel(), yy.ravel()]\n",
    "grid_scaled = scaler_2.transform(grid)\n",
    "Z = lr_model_2.predict(grid_scaled).reshape(xx.shape)\n",
    "\n",
    "plt.figure(figsize=(8,6))\n",
    "plt.contourf(xx, yy, Z, alpha=0.3, cmap='coolwarm')\n",
    "plt.scatter(X['goout'], X['Feature_3'], c=y, cmap='coolwarm', edgecolor='k')\n",
    "\n",
    "plt.xlabel('goout')\n",
    "plt.ylabel('Stress Levels')\n",
    "plt.title('Decision Boundary of Logistic Regression (2 Ordinal Features)')\n",
    "plt.xticks(x_vals)\n",
    "plt.yticks(y_vals)\n",
    "plt.grid(True)\n",
    "plt.colorbar(label='Predicted Class')\n",
    "plt.show()"
   ]
  },
  {
   "cell_type": "markdown",
   "id": "bcfaa56f-7e81-48ac-a529-310b1422efb0",
   "metadata": {},
   "source": [
    "Higher stress levels is associated with no relationship while high goout is associated with romantic relationship"
   ]
  },
  {
   "cell_type": "code",
   "execution_count": null,
   "id": "bcd314f9-544f-4748-8dd4-bea93e4de49e",
   "metadata": {},
   "outputs": [],
   "source": [
    "import shap\n",
    "explainer = shap.Explainer(lr_model, X_train)\n",
    "shap_values = explainer.shap_values(X_test)\n",
    "shap.summary_plot(shap_values, X_test)"
   ]
  },
  {
   "cell_type": "code",
   "execution_count": null,
   "id": "ba29f74a-5683-4cf9-bb33-90a2c5b950f5",
   "metadata": {},
   "outputs": [],
   "source": [
    "yes_idx = np.where(y_pred_lr == 1)[0][0]\n",
    "no_idx = np.where(y_pred_lr == 0)[0][0]   \n",
    "\n",
    "yes_sample = X_test.iloc[[yes_idx]]\n",
    "no_sample = X_test.iloc[[no_idx]]\n",
    "\n",
    "shap_values_yes = explainer(yes_sample)\n",
    "shap_values_no = explainer(no_sample)\n",
    "\n",
    "shap.plots.waterfall(shap_values_yes[0])\n",
    "shap.plots.waterfall(shap_values_no[0])\n"
   ]
  },
  {
   "cell_type": "markdown",
   "id": "e2f566e3-b647-43e0-b23d-ce1b5bc4fde3",
   "metadata": {},
   "source": [
    "### SHAP Value Interpretation Report\n",
    "\n",
    "#### Model: Logistic Regression\n",
    "Analyze the predictions made by Logistic Regression model using **SHAP**, to understand how each feature contributes to the model's decisions.\n",
    "\n",
    "---\n",
    "\n",
    "#### SHAP Beeswarm Plot — Global Feature Importance\n",
    "\n",
    "| Rank | Feature         | Interpretation |\n",
    "|------|------------------|----------------|\n",
    "| 1    | `G2`             | More G2 -> NO |\n",
    "| 2    | `G3`             | Higher G3 -> NO |\n",
    "| 3    | `Feature_1`      | Higher Age -> YES |\n",
    "| 4    | `sex`            | male -> NO |\n",
    "| 5    | `G1`       | Higher G1 -> YES |\n",
    "\n",
    "---\n",
    "\n",
    "#### SHAP Waterfall Plot — Local Explanation (YES)\n",
    "\n",
    "`f(x) = 3.502` -> **Yes**\n",
    "\n",
    "| Feature             | Value        | SHAP Contribution |\n",
    "|---------------------|--------------|-------------------|\n",
    "| `G3`                | 15           | +1.27             |\n",
    "| `G2`                | 14           | +1.15             |\n",
    "| `Feature_1`         | 18           | +0.30             |\n",
    "| `traveltime`        | 2            | +0.04             |\n",
    "| `famrel`            | 5            | +0.04             |\n",
    "| `internet`          | 1            | +0.04             |\n",
    "| `Dalc`              | 1            | -0.04             |\n",
    "| `G1`                | 8            | -0.33             |\n",
    "\n",
    "**Interpretation:**  \n",
    "The student is predicted **Yes** largely because he has good grades and has a good age to be in a relationship.\n",
    "\n",
    "---\n",
    "\n",
    "#### SHAP Waterfall Plot — Local Explanation (NO)\n",
    "\n",
    "`f(x) = 1.441` -> **No**\n",
    "\n",
    "| Feature           | Value        | SHAP Contribution |\n",
    "|-------------------|--------------|-------------------|\n",
    "| `G1`              | 9            | -0.23             |\n",
    "| `Feature_1`       | 16           | -0.19             |\n",
    "| `sex`             | Male         | -0.15             |\n",
    "| `G2`              | 9            | +0.54             |\n",
    "| `G3`              | 10           | +0.21             |\n",
    "| `traveltime`      | 3            | -0.14             |\n",
    "\n",
    "\n",
    "**Interpretation:**  \n",
    "This student is predicted **No**, mainly beacause of G1, age and sex. Although his G3 and G2 have positive contributions, they are outweighed by negative factors.\n",
    "\n",
    "---\n",
    "\n",
    "#### Conclusion\n",
    "\n",
    "- **Global SHAP** analysis shows that activities, sex, age and attendance drive most predictions, which is trivial.\n",
    "- **Local SHAP** helps to understand why student was predicted \"Yes\" or \"No\"."
   ]
  },
  {
   "cell_type": "markdown",
   "id": "1dd6322e-529f-4d2a-8d72-daf17f03646f",
   "metadata": {},
   "source": [
    "## Bonus Level: The Mystery Boundary Match "
   ]
  },
  {
   "cell_type": "markdown",
   "id": "1beaf802-fe54-4c1a-bf4e-f125c3333acc",
   "metadata": {},
   "source": [
    "### Plot 1\n",
    "<img src='Plot_1.png' width='600'>\n",
    "\n",
    "This plot is basically the decision boundaries of **decision tree** because they split the features creating axis parreral boundaries\n",
    "\n",
    "---\n",
    "### Plot 2\n",
    "<img src='Plot_2.png' width='600'>\n",
    "\n",
    "This plot has the decision boundary of **random forest** because it is similar to Plot 1 but more jagged than plot 1 indicating a collection of more than one decision tree.\n",
    "\n",
    "---\n",
    "### Plot 3\n",
    "<img src='Plot_3.png' width='600'>\n",
    "\n",
    "This plot can be attributed to **logistic regression with kernels/SVM** due to its shape and smoothness\n",
    "\n",
    "---\n",
    "### Plot 4\n",
    "<img src='Plot_4.png' width='600'>\n",
    "\n",
    "This plot is associated with **SVM** beacause of smooth decision boundary.\n",
    "\n",
    "---\n",
    "### Plot 5\n",
    "<img src='Plot_5.png' width='600'>\n",
    "\n",
    "The final plot is basically the decision boundary of **KNN** algorithm with low k value(typically 2 or 3) as the curve is highly overfitted and jagged "
   ]
  }
 ],
 "metadata": {
  "kernelspec": {
   "display_name": "Python [conda env:base] *",
   "language": "python",
   "name": "conda-base-py"
  },
  "language_info": {
   "codemirror_mode": {
    "name": "ipython",
    "version": 3
   },
   "file_extension": ".py",
   "mimetype": "text/x-python",
   "name": "python",
   "nbconvert_exporter": "python",
   "pygments_lexer": "ipython3",
   "version": "3.12.7"
  }
 },
 "nbformat": 4,
 "nbformat_minor": 5
}
